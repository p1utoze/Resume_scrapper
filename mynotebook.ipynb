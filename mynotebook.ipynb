{
 "cells": [
  {
   "cell_type": "code",
   "execution_count": null,
   "outputs": [],
   "source": [
    "# df1 = pd.read_csv('resume_data_improved.csv')\n",
    "# df2 = pd.read_csv('resume_data_developer.csv')\n",
    "# pattern = \"resume_data\"\n",
    "# files = [f for f in os.listdir(directory) if os.path.isfile(os.path.join(directory, f)) and f.startswith(pattern)]\n",
    "# df_full = [pd.read_csv(csv) for csv in files]\n",
    "# df = pd.concat(df_full, axis=0, ignore_index=True).drop_duplicates()\n",
    "# df.shape"
   ],
   "metadata": {
    "collapsed": false
   }
  },
  {
   "cell_type": "markdown",
   "source": [
    "# START FROM HERE"
   ],
   "metadata": {
    "collapsed": false
   }
  },
  {
   "cell_type": "code",
   "execution_count": 3,
   "outputs": [
    {
     "data": {
      "text/plain": "['resume_data_category_35',\n 'resume_data_category_84',\n 'resume_data_category_46',\n 'resume_data_category_40',\n 'resume_data_category_8',\n 'resume_data_category_22',\n 'resume_data_category_10',\n 'resume_data_category_87',\n 'resume_data_category_121',\n 'resume_data_category_14',\n 'resume_data_category_23',\n 'resume_data_category_1',\n 'resume_data_category_122']"
     },
     "execution_count": 3,
     "metadata": {},
     "output_type": "execute_result"
    }
   ],
   "source": [
    "import re, numpy as np\n",
    "import os, pandas as pd\n",
    "directory = os.path.join(os.getcwd(), 'preprocess')\n",
    "files = [f for f in os.listdir(directory) if os.path.isfile(os.path.join(directory, f)) and re.search(r'category_[0-9]+', f)]\n",
    "files"
   ],
   "metadata": {
    "collapsed": false
   }
  },
  {
   "cell_type": "code",
   "execution_count": 17,
   "outputs": [],
   "source": [
    "df2 = pd.concat([pd.read_csv(f'{directory}/{csv}') for csv in files], axis=0, ignore_index=True).drop_duplicates()"
   ],
   "metadata": {
    "collapsed": false
   }
  },
  {
   "cell_type": "code",
   "execution_count": 18,
   "outputs": [
    {
     "data": {
      "text/plain": "Engineering                       1500\nInformation Technology            1500\nAccounting/Bookkeeping            1500\nBusiness/Management               1500\nFinance/Investment                1276\nComputer Software/Programming     1057\nBanking/Mortgage                  1007\nGraphics Design/Commercial Art     604\nCAD/Drafting                       556\nAutomotive/Mechanic                483\nComputer Hardware                  330\nQuality Control                    289\nPublic Relations                   227\nName: Desired Industry, dtype: int64"
     },
     "execution_count": 18,
     "metadata": {},
     "output_type": "execute_result"
    }
   ],
   "source": [
    "df2['Desired Industry'].value_counts()"
   ],
   "metadata": {
    "collapsed": false
   }
  },
  {
   "cell_type": "code",
   "execution_count": 19,
   "outputs": [],
   "source": [
    "df2 = df2.drop(['Availability Date', 'Date Posted', 'Unnamed: 0', 'Reference', 'Affiliations', 'Additional Information'], axis=1)"
   ],
   "metadata": {
    "collapsed": false
   }
  },
  {
   "cell_type": "code",
   "execution_count": 20,
   "outputs": [
    {
     "data": {
      "text/plain": "(11829, 15)"
     },
     "execution_count": 20,
     "metadata": {},
     "output_type": "execute_result"
    }
   ],
   "source": [
    "df2.shape"
   ],
   "metadata": {
    "collapsed": false
   }
  },
  {
   "cell_type": "code",
   "execution_count": 21,
   "outputs": [],
   "source": [
    "\n",
    "attr = ['Skills', 'Objective', 'Education', 'Experience']\n",
    "for col in attr:\n",
    "    df2[col] = df2[col].apply(lambda x: str(x).encode('ascii', errors='ignore').decode().strip())\n",
    "    df2[col] = df2[col].replace(r'^[-=]+[-=]$', np.nan ,  regex=True)\n",
    "    df2[col] = df2[col].replace(['nan', 'non'], np.nan)\n",
    "    df2[col] = df2[col].str.replace('\\t', '')\n",
    "    df2[col] = df2[col].str.replace('\\n', ' ')"
   ],
   "metadata": {
    "collapsed": false
   }
  },
  {
   "cell_type": "code",
   "execution_count": 22,
   "outputs": [
    {
     "data": {
      "text/plain": "Index(['Role', 'Desired Industry', 'SpiderID', 'Desired Job Location',\n       'Type of Position', 'Desired Wage', 'U.S. Work Authorization',\n       'Job Level', 'Willing to Travel', 'Highest Degree Attained',\n       'Willing to Relocate', 'Objective', 'Experience', 'Education',\n       'Skills'],\n      dtype='object')"
     },
     "execution_count": 22,
     "metadata": {},
     "output_type": "execute_result"
    }
   ],
   "source": [
    "df2.columns"
   ],
   "metadata": {
    "collapsed": false
   }
  },
  {
   "cell_type": "code",
   "execution_count": 23,
   "outputs": [
    {
     "data": {
      "text/plain": "(11829, 15)"
     },
     "execution_count": 23,
     "metadata": {},
     "output_type": "execute_result"
    }
   ],
   "source": [
    "df2.shape"
   ],
   "metadata": {
    "collapsed": false
   }
  },
  {
   "cell_type": "code",
   "execution_count": 24,
   "outputs": [],
   "source": [
    "df2 = df2.fillna('')"
   ],
   "metadata": {
    "collapsed": false
   }
  },
  {
   "cell_type": "code",
   "execution_count": 13,
   "outputs": [],
   "source": [
    "# df2.to_csv('data.csv')"
   ],
   "metadata": {
    "collapsed": false
   }
  },
  {
   "cell_type": "code",
   "execution_count": 14,
   "outputs": [],
   "source": [
    "# df2['Skills'] + ' '+ df2['Objective']"
   ],
   "metadata": {
    "collapsed": false
   }
  },
  {
   "cell_type": "code",
   "execution_count": 37,
   "outputs": [],
   "source": [
    "tot = (df2 == '').sum()"
   ],
   "metadata": {
    "collapsed": false
   }
  },
  {
   "cell_type": "markdown",
   "source": [
    "# **NLP PART**"
   ],
   "metadata": {
    "collapsed": false
   }
  },
  {
   "cell_type": "code",
   "execution_count": 12,
   "outputs": [
    {
     "data": {
      "text/plain": "False"
     },
     "execution_count": 12,
     "metadata": {},
     "output_type": "execute_result"
    }
   ],
   "source": [
    "import spacy\n",
    "spacy.prefer_gpu()"
   ],
   "metadata": {
    "collapsed": false
   }
  },
  {
   "cell_type": "code",
   "execution_count": 13,
   "outputs": [],
   "source": [
    "nlp = spacy.load('en_core_web_sm')"
   ],
   "metadata": {
    "collapsed": false
   }
  },
  {
   "cell_type": "code",
   "execution_count": 27,
   "outputs": [],
   "source": [
    "df_copy = df2.copy()"
   ],
   "metadata": {
    "collapsed": false
   }
  },
  {
   "cell_type": "code",
   "execution_count": 31,
   "outputs": [],
   "source": [
    "iteration = 0\n",
    "def preprocess_doc(doc):\n",
    "    # Tokenize the document\n",
    "    # tokens = [token.text for token in doc]\n",
    "\n",
    "    # Remove stop words\n",
    "    tokens = [token.lemma_ for token in doc if not token.is_stop and not token.is_punct]\n",
    "    # Join the tokens back into a single string\n",
    "    preprocessed_doc = ' '.join(tokens)\n",
    "    return preprocessed_doc"
   ],
   "metadata": {
    "collapsed": false
   }
  },
  {
   "cell_type": "code",
   "execution_count": 32,
   "outputs": [],
   "source": [
    "for col in ['Skills', 'Objective', 'Education', 'Experience']:\n",
    "    df_copy[col] = df_copy[col].apply(lambda x: preprocess_doc(nlp(x)))"
   ],
   "metadata": {
    "collapsed": false
   }
  },
  {
   "cell_type": "code",
   "execution_count": 33,
   "outputs": [
    {
     "data": {
      "text/plain": "                                                  Skills  \\\n0      Preventive Maintenance Process Improvement Cha...   \n1                                                   java   \n2      expert review mechanical site design drawing r...   \n3                  Mechanichal Engineering + mechatronic   \n4      Leadership Role HKIE Student Chapters Committe...   \n...                                                  ...   \n11824                                                      \n11825                                                      \n11826                                                      \n11827                                                      \n11828                                                      \n\n                                               Objective  \\\n0      skilled carry preventative corrective general ...   \n1      goal orient hardworke engineer graduate keen i...   \n2      hand analytical solution focus professional ex...   \n3      secure challenging role expand knowledge skill...   \n4      TARGET Jobspider Senior Mems Process Engineer ...   \n...                                                  ...   \n11824                                                      \n11825                                                      \n11826                                                      \n11827                                                      \n11828                                                      \n\n                                               Education  \\\n0      Bachelor Arts Geosciences   University North C...   \n1      Philippines Licensed Mechanical Engineer 15 ye...   \n2      Bachelor Technology Mechanichal Engineering+ A...   \n3      Bachelor Engineering Mechanical Engineering Ho...   \n4      hand analytical solution focus professional ex...   \n...                                                  ...   \n11824                                                      \n11825                                                      \n11826                                                      \n11827                                                      \n11828                                                      \n\n                                              Experience  \n0      Metro Ports Wilmington NC Maintenance Manager ...  \n1      versatile technically astute field piping qc t...  \n2      Technical Management Trainee Eltex Appliances ...  \n3      hand analytical solution focus professional ex...  \n4      Gururaj Engineers automation Electrical Engine...  \n...                                                  ...  \n11824                                                     \n11825                                                     \n11826                                                     \n11827                                                     \n11828                                                     \n\n[11829 rows x 4 columns]",
      "text/html": "<div>\n<style scoped>\n    .dataframe tbody tr th:only-of-type {\n        vertical-align: middle;\n    }\n\n    .dataframe tbody tr th {\n        vertical-align: top;\n    }\n\n    .dataframe thead th {\n        text-align: right;\n    }\n</style>\n<table border=\"1\" class=\"dataframe\">\n  <thead>\n    <tr style=\"text-align: right;\">\n      <th></th>\n      <th>Skills</th>\n      <th>Objective</th>\n      <th>Education</th>\n      <th>Experience</th>\n    </tr>\n  </thead>\n  <tbody>\n    <tr>\n      <th>0</th>\n      <td>Preventive Maintenance Process Improvement Cha...</td>\n      <td>skilled carry preventative corrective general ...</td>\n      <td>Bachelor Arts Geosciences   University North C...</td>\n      <td>Metro Ports Wilmington NC Maintenance Manager ...</td>\n    </tr>\n    <tr>\n      <th>1</th>\n      <td>java</td>\n      <td>goal orient hardworke engineer graduate keen i...</td>\n      <td>Philippines Licensed Mechanical Engineer 15 ye...</td>\n      <td>versatile technically astute field piping qc t...</td>\n    </tr>\n    <tr>\n      <th>2</th>\n      <td>expert review mechanical site design drawing r...</td>\n      <td>hand analytical solution focus professional ex...</td>\n      <td>Bachelor Technology Mechanichal Engineering+ A...</td>\n      <td>Technical Management Trainee Eltex Appliances ...</td>\n    </tr>\n    <tr>\n      <th>3</th>\n      <td>Mechanichal Engineering + mechatronic</td>\n      <td>secure challenging role expand knowledge skill...</td>\n      <td>Bachelor Engineering Mechanical Engineering Ho...</td>\n      <td>hand analytical solution focus professional ex...</td>\n    </tr>\n    <tr>\n      <th>4</th>\n      <td>Leadership Role HKIE Student Chapters Committe...</td>\n      <td>TARGET Jobspider Senior Mems Process Engineer ...</td>\n      <td>hand analytical solution focus professional ex...</td>\n      <td>Gururaj Engineers automation Electrical Engine...</td>\n    </tr>\n    <tr>\n      <th>...</th>\n      <td>...</td>\n      <td>...</td>\n      <td>...</td>\n      <td>...</td>\n    </tr>\n    <tr>\n      <th>11824</th>\n      <td></td>\n      <td></td>\n      <td></td>\n      <td></td>\n    </tr>\n    <tr>\n      <th>11825</th>\n      <td></td>\n      <td></td>\n      <td></td>\n      <td></td>\n    </tr>\n    <tr>\n      <th>11826</th>\n      <td></td>\n      <td></td>\n      <td></td>\n      <td></td>\n    </tr>\n    <tr>\n      <th>11827</th>\n      <td></td>\n      <td></td>\n      <td></td>\n      <td></td>\n    </tr>\n    <tr>\n      <th>11828</th>\n      <td></td>\n      <td></td>\n      <td></td>\n      <td></td>\n    </tr>\n  </tbody>\n</table>\n<p>11829 rows × 4 columns</p>\n</div>"
     },
     "execution_count": 33,
     "metadata": {},
     "output_type": "execute_result"
    }
   ],
   "source": [
    "df_copy[['Skills', 'Objective', 'Education', 'Experience']]"
   ],
   "metadata": {
    "collapsed": false
   }
  },
  {
   "cell_type": "code",
   "execution_count": 51,
   "outputs": [
    {
     "data": {
      "text/plain": "Desired Industry            NaN\nDesired Job Location        NaN\nDesired Wage                NaN\nEducation                  19.0\nExperience                 24.0\nHighest Degree Attained     NaN\nJob Level                   NaN\nObjective                  15.0\nRole                        NaN\nSkills                     21.0\nSpiderID                    NaN\nType of Position            NaN\nU.S. Work Authorization     NaN\nWilling to Relocate         NaN\nWilling to Travel           NaN\ndtype: float64"
     },
     "execution_count": 51,
     "metadata": {},
     "output_type": "execute_result"
    }
   ],
   "source": [
    "(df_copy[['Skills', 'Objective', 'Education', 'Experience']] == '').sum() - tot"
   ],
   "metadata": {
    "collapsed": false
   }
  },
  {
   "cell_type": "code",
   "execution_count": 28,
   "outputs": [
    {
     "data": {
      "text/plain": "(11829, 15)"
     },
     "execution_count": 28,
     "metadata": {},
     "output_type": "execute_result"
    }
   ],
   "source": [
    "df_copy.shape"
   ],
   "metadata": {
    "collapsed": false
   }
  },
  {
   "cell_type": "code",
   "execution_count": 38,
   "outputs": [],
   "source": [
    "df_copy.to_csv('data.csv')"
   ],
   "metadata": {
    "collapsed": false
   }
  },
  {
   "cell_type": "code",
   "execution_count": 65,
   "outputs": [
    {
     "data": {
      "text/plain": "                                                    Role     Desired Industry  \\\n0              Director of Maintenance Operations Resume          Engineering   \n1                                  java developer Resume          Engineering   \n2                             Mechanical Engineer Resume          Engineering   \n3                                      Technician Resume          Engineering   \n4                             Mechanical Engineer Resume          Engineering   \n...                                                  ...                  ...   \n11824                                  management Resume  Business/Management   \n11825                       Office Administration Resume  Business/Management   \n11826        CEO, The Associated Consultants, LLC Resume  Business/Management   \n11827  Sales, Account Manager, Business Development, ...  Business/Management   \n11828                                     Manager Resume  Business/Management   \n\n       SpiderID        Desired Job Location     Type of Position Desired Wage  \\\n0         83950  Wilmington, North Carolina  Full-Time Permanent       115000   \n1         83927          new york, Delaware           Contractor                \n2         83916       Surrey, New Brunswick  Full-Time Permanent                \n3         83864           Edmonton, Alberta  Part-Time Permanent     22$/hour   \n4         83803            Calgary, Alberta  Full-Time Permanent                \n...         ...                         ...                  ...          ...   \n11824     26166         Arlington, Virginia  Full-Time Permanent        50000   \n11825     26160        Queen Creek, Arizona  Full-Time Permanent       41,000   \n11826     26142      Gaithersburg, Maryland  Full-Time Permanent                \n11827     26118        Winchester, Virginia  Full-Time Permanent    65,000.00   \n11828     26097            Toronto, Ontario  Full-Time Permanent                \n\n      U.S. Work Authorization                                 Job Level  \\\n0                         Yes            Management (Manager, Director)   \n1                         Yes            Management (Manager, Director)   \n2                         Yes  Experienced with over 2 years experience   \n3                                                  New Grad/Entry Level   \n4                          No                      New Grad/Entry Level   \n...                       ...                                       ...   \n11824                     Yes            Management (Manager, Director)   \n11825                     Yes  Experienced with over 2 years experience   \n11826                                    Executive (President, VP, CEO)   \n11827                     Yes            Management (Manager, Director)   \n11828                      No            Management (Manager, Director)   \n\n        Willing to Travel Highest Degree Attained Willing to Relocate  \\\n0      Yes, Less Than 25%               Bachelors                 Yes   \n1      Yes, More Than 75%               Bachelors                 Yes   \n2                                       Bachelors                 Yes   \n3             Yes, 50-75%               Bachelors                 Yes   \n4                                       Bachelors           Undecided   \n...                   ...                     ...                 ...   \n11824  Yes, Less Than 25%  High School/Equivalent                  No   \n11825                                   Bachelors                  No   \n11826                                     Masters                       \n11827                                   Bachelors                  No   \n11828  Yes, Less Than 25%                     MBA                 Yes   \n\n      Objective Experience Education Skills  \n0                                            \n1                                            \n2                                            \n3                                            \n4                                            \n...         ...        ...       ...    ...  \n11824                                        \n11825                                        \n11826                                        \n11827                                        \n11828                                        \n\n[11829 rows x 15 columns]",
      "text/html": "<div>\n<style scoped>\n    .dataframe tbody tr th:only-of-type {\n        vertical-align: middle;\n    }\n\n    .dataframe tbody tr th {\n        vertical-align: top;\n    }\n\n    .dataframe thead th {\n        text-align: right;\n    }\n</style>\n<table border=\"1\" class=\"dataframe\">\n  <thead>\n    <tr style=\"text-align: right;\">\n      <th></th>\n      <th>Role</th>\n      <th>Desired Industry</th>\n      <th>SpiderID</th>\n      <th>Desired Job Location</th>\n      <th>Type of Position</th>\n      <th>Desired Wage</th>\n      <th>U.S. Work Authorization</th>\n      <th>Job Level</th>\n      <th>Willing to Travel</th>\n      <th>Highest Degree Attained</th>\n      <th>Willing to Relocate</th>\n      <th>Objective</th>\n      <th>Experience</th>\n      <th>Education</th>\n      <th>Skills</th>\n    </tr>\n  </thead>\n  <tbody>\n    <tr>\n      <th>0</th>\n      <td>Director of Maintenance Operations Resume</td>\n      <td>Engineering</td>\n      <td>83950</td>\n      <td>Wilmington, North Carolina</td>\n      <td>Full-Time Permanent</td>\n      <td>115000</td>\n      <td>Yes</td>\n      <td>Management (Manager, Director)</td>\n      <td>Yes, Less Than 25%</td>\n      <td>Bachelors</td>\n      <td>Yes</td>\n      <td></td>\n      <td></td>\n      <td></td>\n      <td></td>\n    </tr>\n    <tr>\n      <th>1</th>\n      <td>java developer Resume</td>\n      <td>Engineering</td>\n      <td>83927</td>\n      <td>new york, Delaware</td>\n      <td>Contractor</td>\n      <td></td>\n      <td>Yes</td>\n      <td>Management (Manager, Director)</td>\n      <td>Yes, More Than 75%</td>\n      <td>Bachelors</td>\n      <td>Yes</td>\n      <td></td>\n      <td></td>\n      <td></td>\n      <td></td>\n    </tr>\n    <tr>\n      <th>2</th>\n      <td>Mechanical Engineer Resume</td>\n      <td>Engineering</td>\n      <td>83916</td>\n      <td>Surrey, New Brunswick</td>\n      <td>Full-Time Permanent</td>\n      <td></td>\n      <td>Yes</td>\n      <td>Experienced with over 2 years experience</td>\n      <td></td>\n      <td>Bachelors</td>\n      <td>Yes</td>\n      <td></td>\n      <td></td>\n      <td></td>\n      <td></td>\n    </tr>\n    <tr>\n      <th>3</th>\n      <td>Technician Resume</td>\n      <td>Engineering</td>\n      <td>83864</td>\n      <td>Edmonton, Alberta</td>\n      <td>Part-Time Permanent</td>\n      <td>22$/hour</td>\n      <td></td>\n      <td>New Grad/Entry Level</td>\n      <td>Yes, 50-75%</td>\n      <td>Bachelors</td>\n      <td>Yes</td>\n      <td></td>\n      <td></td>\n      <td></td>\n      <td></td>\n    </tr>\n    <tr>\n      <th>4</th>\n      <td>Mechanical Engineer Resume</td>\n      <td>Engineering</td>\n      <td>83803</td>\n      <td>Calgary, Alberta</td>\n      <td>Full-Time Permanent</td>\n      <td></td>\n      <td>No</td>\n      <td>New Grad/Entry Level</td>\n      <td></td>\n      <td>Bachelors</td>\n      <td>Undecided</td>\n      <td></td>\n      <td></td>\n      <td></td>\n      <td></td>\n    </tr>\n    <tr>\n      <th>...</th>\n      <td>...</td>\n      <td>...</td>\n      <td>...</td>\n      <td>...</td>\n      <td>...</td>\n      <td>...</td>\n      <td>...</td>\n      <td>...</td>\n      <td>...</td>\n      <td>...</td>\n      <td>...</td>\n      <td>...</td>\n      <td>...</td>\n      <td>...</td>\n      <td>...</td>\n    </tr>\n    <tr>\n      <th>11824</th>\n      <td>management Resume</td>\n      <td>Business/Management</td>\n      <td>26166</td>\n      <td>Arlington, Virginia</td>\n      <td>Full-Time Permanent</td>\n      <td>50000</td>\n      <td>Yes</td>\n      <td>Management (Manager, Director)</td>\n      <td>Yes, Less Than 25%</td>\n      <td>High School/Equivalent</td>\n      <td>No</td>\n      <td></td>\n      <td></td>\n      <td></td>\n      <td></td>\n    </tr>\n    <tr>\n      <th>11825</th>\n      <td>Office Administration Resume</td>\n      <td>Business/Management</td>\n      <td>26160</td>\n      <td>Queen Creek, Arizona</td>\n      <td>Full-Time Permanent</td>\n      <td>41,000</td>\n      <td>Yes</td>\n      <td>Experienced with over 2 years experience</td>\n      <td></td>\n      <td>Bachelors</td>\n      <td>No</td>\n      <td></td>\n      <td></td>\n      <td></td>\n      <td></td>\n    </tr>\n    <tr>\n      <th>11826</th>\n      <td>CEO, The Associated Consultants, LLC Resume</td>\n      <td>Business/Management</td>\n      <td>26142</td>\n      <td>Gaithersburg, Maryland</td>\n      <td>Full-Time Permanent</td>\n      <td></td>\n      <td></td>\n      <td>Executive (President, VP, CEO)</td>\n      <td></td>\n      <td>Masters</td>\n      <td></td>\n      <td></td>\n      <td></td>\n      <td></td>\n      <td></td>\n    </tr>\n    <tr>\n      <th>11827</th>\n      <td>Sales, Account Manager, Business Development, ...</td>\n      <td>Business/Management</td>\n      <td>26118</td>\n      <td>Winchester, Virginia</td>\n      <td>Full-Time Permanent</td>\n      <td>65,000.00</td>\n      <td>Yes</td>\n      <td>Management (Manager, Director)</td>\n      <td></td>\n      <td>Bachelors</td>\n      <td>No</td>\n      <td></td>\n      <td></td>\n      <td></td>\n      <td></td>\n    </tr>\n    <tr>\n      <th>11828</th>\n      <td>Manager Resume</td>\n      <td>Business/Management</td>\n      <td>26097</td>\n      <td>Toronto, Ontario</td>\n      <td>Full-Time Permanent</td>\n      <td></td>\n      <td>No</td>\n      <td>Management (Manager, Director)</td>\n      <td>Yes, Less Than 25%</td>\n      <td>MBA</td>\n      <td>Yes</td>\n      <td></td>\n      <td></td>\n      <td></td>\n      <td></td>\n    </tr>\n  </tbody>\n</table>\n<p>11829 rows × 15 columns</p>\n</div>"
     },
     "execution_count": 65,
     "metadata": {},
     "output_type": "execute_result"
    }
   ],
   "source": [
    "df_copy"
   ],
   "metadata": {
    "collapsed": false
   }
  },
  {
   "cell_type": "code",
   "execution_count": 39,
   "outputs": [],
   "source": [
    "df = pd.read_csv('data/data.csv')\n",
    "df = df.drop('Unnamed: 0', axis=1)"
   ],
   "metadata": {
    "collapsed": false
   }
  },
  {
   "cell_type": "code",
   "execution_count": 24,
   "outputs": [],
   "source": [
    "from sklearn.model_selection import train_test_split\n",
    "feature = df_copy['Desired Industry'].values\n",
    "X = df_copy.drop('Desired Industry', axis=1)"
   ],
   "metadata": {
    "collapsed": false
   }
  },
  {
   "cell_type": "code",
   "execution_count": 52,
   "outputs": [],
   "source": [
    "from spacy import displacy\n",
    "def ner(doc):\n",
    "    displacy.render(doc ,style='ent')\n",
    "    print('\\n')"
   ],
   "metadata": {
    "collapsed": false
   }
  },
  {
   "cell_type": "code",
   "execution_count": 35,
   "outputs": [
    {
     "ename": "AttributeError",
     "evalue": "'DataFrame' object has no attribute 'map'",
     "output_type": "error",
     "traceback": [
      "\u001B[0;31m---------------------------------------------------------------------------\u001B[0m",
      "\u001B[0;31mAttributeError\u001B[0m                            Traceback (most recent call last)",
      "Cell \u001B[0;32mIn [35], line 1\u001B[0m\n\u001B[0;32m----> 1\u001B[0m \u001B[43mdf_copy\u001B[49m\u001B[38;5;241;43m.\u001B[39;49m\u001B[43mloc\u001B[49m\u001B[43m[\u001B[49m\u001B[43mnp\u001B[49m\u001B[38;5;241;43m.\u001B[39;49m\u001B[43mrandom\u001B[49m\u001B[38;5;241;43m.\u001B[39;49m\u001B[43mrandint\u001B[49m\u001B[43m(\u001B[49m\u001B[38;5;241;43m0\u001B[39;49m\u001B[43m,\u001B[49m\u001B[43m \u001B[49m\u001B[38;5;241;43m11829\u001B[39;49m\u001B[43m,\u001B[49m\u001B[43m \u001B[49m\u001B[38;5;241;43m10\u001B[39;49m\u001B[43m)\u001B[49m\u001B[43m,\u001B[49m\u001B[43m \u001B[49m\u001B[43m[\u001B[49m\u001B[38;5;124;43m'\u001B[39;49m\u001B[38;5;124;43mSkills\u001B[39;49m\u001B[38;5;124;43m'\u001B[39;49m\u001B[43m,\u001B[49m\u001B[43m \u001B[49m\u001B[38;5;124;43m'\u001B[39;49m\u001B[38;5;124;43mEducation\u001B[39;49m\u001B[38;5;124;43m'\u001B[39;49m\u001B[43m]\u001B[49m\u001B[43m]\u001B[49m\u001B[38;5;241;43m.\u001B[39;49m\u001B[43mmap\u001B[49m(\u001B[38;5;28;01mlambda\u001B[39;00m x: nlp(x))\n",
      "File \u001B[0;32m~/Documents/oneAPIproject/venv/lib/python3.10/site-packages/pandas/core/generic.py:5902\u001B[0m, in \u001B[0;36mNDFrame.__getattr__\u001B[0;34m(self, name)\u001B[0m\n\u001B[1;32m   5895\u001B[0m \u001B[38;5;28;01mif\u001B[39;00m (\n\u001B[1;32m   5896\u001B[0m     name \u001B[38;5;129;01mnot\u001B[39;00m \u001B[38;5;129;01min\u001B[39;00m \u001B[38;5;28mself\u001B[39m\u001B[38;5;241m.\u001B[39m_internal_names_set\n\u001B[1;32m   5897\u001B[0m     \u001B[38;5;129;01mand\u001B[39;00m name \u001B[38;5;129;01mnot\u001B[39;00m \u001B[38;5;129;01min\u001B[39;00m \u001B[38;5;28mself\u001B[39m\u001B[38;5;241m.\u001B[39m_metadata\n\u001B[1;32m   5898\u001B[0m     \u001B[38;5;129;01mand\u001B[39;00m name \u001B[38;5;129;01mnot\u001B[39;00m \u001B[38;5;129;01min\u001B[39;00m \u001B[38;5;28mself\u001B[39m\u001B[38;5;241m.\u001B[39m_accessors\n\u001B[1;32m   5899\u001B[0m     \u001B[38;5;129;01mand\u001B[39;00m \u001B[38;5;28mself\u001B[39m\u001B[38;5;241m.\u001B[39m_info_axis\u001B[38;5;241m.\u001B[39m_can_hold_identifiers_and_holds_name(name)\n\u001B[1;32m   5900\u001B[0m ):\n\u001B[1;32m   5901\u001B[0m     \u001B[38;5;28;01mreturn\u001B[39;00m \u001B[38;5;28mself\u001B[39m[name]\n\u001B[0;32m-> 5902\u001B[0m \u001B[38;5;28;01mreturn\u001B[39;00m \u001B[38;5;28;43mobject\u001B[39;49m\u001B[38;5;241;43m.\u001B[39;49m\u001B[38;5;21;43m__getattribute__\u001B[39;49m\u001B[43m(\u001B[49m\u001B[38;5;28;43mself\u001B[39;49m\u001B[43m,\u001B[49m\u001B[43m \u001B[49m\u001B[43mname\u001B[49m\u001B[43m)\u001B[49m\n",
      "\u001B[0;31mAttributeError\u001B[0m: 'DataFrame' object has no attribute 'map'"
     ]
    }
   ],
   "source": [
    "df_copy.loc[n, ['Skills', 'Education']]"
   ],
   "metadata": {
    "collapsed": false
   }
  },
  {
   "cell_type": "code",
   "execution_count": 54,
   "outputs": [
    {
     "data": {
      "text/plain": "<IPython.core.display.HTML object>",
      "text/html": "<span class=\"tex2jax_ignore\"><div class=\"entities\" style=\"line-height: 2.5; direction: ltr\">\n<mark class=\"entity\" style=\"background: #feca74; padding: 0.45em 0.6em; margin: 0 0.25em; line-height: 1; border-radius: 0.35em;\">\n    California\n    <span style=\"font-size: 0.8em; font-weight: bold; line-height: 1; border-radius: 0.35em; vertical-align: middle; margin-left: 0.5rem\">GPE</span>\n</mark>\n \n<mark class=\"entity\" style=\"background: #aa9cfc; padding: 0.45em 0.6em; margin: 0 0.25em; line-height: 1; border-radius: 0.35em;\">\n    Notary\n    <span style=\"font-size: 0.8em; font-weight: bold; line-height: 1; border-radius: 0.35em; vertical-align: middle; margin-left: 0.5rem\">PERSON</span>\n</mark>\n Member \n<mark class=\"entity\" style=\"background: #aa9cfc; padding: 0.45em 0.6em; margin: 0 0.25em; line-height: 1; border-radius: 0.35em;\">\n    NNA Handle Multiple Phone Lines\n    <span style=\"font-size: 0.8em; font-weight: bold; line-height: 1; border-radius: 0.35em; vertical-align: middle; margin-left: 0.5rem\">PERSON</span>\n</mark>\n Microsoft Word Windows Excel Power Point Outlook Access .Type \n<mark class=\"entity\" style=\"background: #e4e7d2; padding: 0.45em 0.6em; margin: 0 0.25em; line-height: 1; border-radius: 0.35em;\">\n    50\n    <span style=\"font-size: 0.8em; font-weight: bold; line-height: 1; border-radius: 0.35em; vertical-align: middle; margin-left: 0.5rem\">CARDINAL</span>\n</mark>\n WPM \n<mark class=\"entity\" style=\"background: #e4e7d2; padding: 0.45em 0.6em; margin: 0 0.25em; line-height: 1; border-radius: 0.35em;\">\n    10\n    <span style=\"font-size: 0.8em; font-weight: bold; line-height: 1; border-radius: 0.35em; vertical-align: middle; margin-left: 0.5rem\">CARDINAL</span>\n</mark>\n key touch Alpha Numeric 400 Mortgage loan system \n<mark class=\"entity\" style=\"background: #7aecec; padding: 0.45em 0.6em; margin: 0 0.25em; line-height: 1; border-radius: 0.35em;\">\n    SAP SRM Calx point\n    <span style=\"font-size: 0.8em; font-weight: bold; line-height: 1; border-radius: 0.35em; vertical-align: middle; margin-left: 0.5rem\">ORG</span>\n</mark>\n \n<mark class=\"entity\" style=\"background: #7aecec; padding: 0.45em 0.6em; margin: 0 0.25em; line-height: 1; border-radius: 0.35em;\">\n    LPS p R.\n    <span style=\"font-size: 0.8em; font-weight: bold; line-height: 1; border-radius: 0.35em; vertical-align: middle; margin-left: 0.5rem\">ORG</span>\n</mark>\n</div></span>"
     },
     "metadata": {},
     "output_type": "display_data"
    },
    {
     "name": "stdout",
     "output_type": "stream",
     "text": [
      "\n",
      "\n"
     ]
    },
    {
     "data": {
      "text/plain": "<IPython.core.display.HTML object>",
      "text/html": "<span class=\"tex2jax_ignore\"><div class=\"entities\" style=\"line-height: 2.5; direction: ltr\">facilitation math problem solve deductive.reasoning creative researcher ability.to work team pressure an.organized manner responsible organized willing learn new.activitie language \n<mark class=\"entity\" style=\"background: #c887fb; padding: 0.45em 0.6em; margin: 0 0.25em; line-height: 1; border-radius: 0.35em;\">\n    spanish\n    <span style=\"font-size: 0.8em; font-weight: bold; line-height: 1; border-radius: 0.35em; vertical-align: middle; margin-left: 0.5rem\">NORP</span>\n</mark>\n \n<mark class=\"entity\" style=\"background: #ff8197; padding: 0.45em 0.6em; margin: 0 0.25em; line-height: 1; border-radius: 0.35em;\">\n    English\n    <span style=\"font-size: 0.8em; font-weight: bold; line-height: 1; border-radius: 0.35em; vertical-align: middle; margin-left: 0.5rem\">LANGUAGE</span>\n</mark>\n fluently french.(2 years) software \n<mark class=\"entity\" style=\"background: #7aecec; padding: 0.45em 0.6em; margin: 0 0.25em; line-height: 1; border-radius: 0.35em;\">\n    SPSS\n    <span style=\"font-size: 0.8em; font-weight: bold; line-height: 1; border-radius: 0.35em; vertical-align: middle; margin-left: 0.5rem\">ORG</span>\n</mark>\n 13.0 \n<mark class=\"entity\" style=\"background: #7aecec; padding: 0.45em 0.6em; margin: 0 0.25em; line-height: 1; border-radius: 0.35em;\">\n    Windows Integrated Student Version\n    <span style=\"font-size: 0.8em; font-weight: bold; line-height: 1; border-radius: 0.35em; vertical-align: middle; margin-left: 0.5rem\">ORG</span>\n</mark>\n LogWare Mac Computer Server successful.use Siicex Caaraem website</div></span>"
     },
     "metadata": {},
     "output_type": "display_data"
    },
    {
     "name": "stdout",
     "output_type": "stream",
     "text": [
      "\n",
      "\n"
     ]
    },
    {
     "data": {
      "text/plain": "<IPython.core.display.HTML object>",
      "text/html": "<span class=\"tex2jax_ignore\"><div class=\"entities\" style=\"line-height: 2.5; direction: ltr\">\n<mark class=\"entity\" style=\"background: #7aecec; padding: 0.45em 0.6em; margin: 0 0.25em; line-height: 1; border-radius: 0.35em;\">\n    MS Office\n    <span style=\"font-size: 0.8em; font-weight: bold; line-height: 1; border-radius: 0.35em; vertical-align: middle; margin-left: 0.5rem\">ORG</span>\n</mark>\n</div></span>"
     },
     "metadata": {},
     "output_type": "display_data"
    },
    {
     "name": "stdout",
     "output_type": "stream",
     "text": [
      "\n",
      "\n"
     ]
    },
    {
     "data": {
      "text/plain": "<IPython.core.display.HTML object>",
      "text/html": "<span class=\"tex2jax_ignore\"><div class=\"entities\" style=\"line-height: 2.5; direction: ltr\">ability type \n<mark class=\"entity\" style=\"background: #e4e7d2; padding: 0.45em 0.6em; margin: 0 0.25em; line-height: 1; border-radius: 0.35em;\">\n    75\n    <span style=\"font-size: 0.8em; font-weight: bold; line-height: 1; border-radius: 0.35em; vertical-align: middle; margin-left: 0.5rem\">CARDINAL</span>\n</mark>\n WPM \n<mark class=\"entity\" style=\"background: #e4e7d2; padding: 0.45em 0.6em; margin: 0 0.25em; line-height: 1; border-radius: 0.35em;\">\n    12,000\n    <span style=\"font-size: 0.8em; font-weight: bold; line-height: 1; border-radius: 0.35em; vertical-align: middle; margin-left: 0.5rem\">CARDINAL</span>\n</mark>\n \n<mark class=\"entity\" style=\"background: #7aecec; padding: 0.45em 0.6em; margin: 0 0.25em; line-height: 1; border-radius: 0.35em;\">\n    KPH\n    <span style=\"font-size: 0.8em; font-weight: bold; line-height: 1; border-radius: 0.35em; vertical-align: middle; margin-left: 0.5rem\">ORG</span>\n</mark>\n exceptional knowledge \n<mark class=\"entity\" style=\"background: #7aecec; padding: 0.45em 0.6em; margin: 0 0.25em; line-height: 1; border-radius: 0.35em;\">\n    Microsoft Office\n    <span style=\"font-size: 0.8em; font-weight: bold; line-height: 1; border-radius: 0.35em; vertical-align: middle; margin-left: 0.5rem\">ORG</span>\n</mark>\n Word Power point Outlook) Bilingual Tagalog Data Entry Computer skill</div></span>"
     },
     "metadata": {},
     "output_type": "display_data"
    },
    {
     "name": "stdout",
     "output_type": "stream",
     "text": [
      "\n",
      "\n"
     ]
    },
    {
     "ename": "ValueError",
     "evalue": "[E1041] Expected a string, Doc, or bytes as input, but got: <class 'float'>",
     "output_type": "error",
     "traceback": [
      "\u001B[0;31m---------------------------------------------------------------------------\u001B[0m",
      "\u001B[0;31mValueError\u001B[0m                                Traceback (most recent call last)",
      "Cell \u001B[0;32mIn [54], line 2\u001B[0m\n\u001B[1;32m      1\u001B[0m \u001B[38;5;28;01mfor\u001B[39;00m row \u001B[38;5;129;01min\u001B[39;00m np\u001B[38;5;241m.\u001B[39mrandom\u001B[38;5;241m.\u001B[39mrandint(\u001B[38;5;241m0\u001B[39m, \u001B[38;5;241m11829\u001B[39m, \u001B[38;5;241m10\u001B[39m):\n\u001B[0;32m----> 2\u001B[0m     ner(\u001B[43mnlp\u001B[49m\u001B[43m(\u001B[49m\u001B[43mdf\u001B[49m\u001B[38;5;241;43m.\u001B[39;49m\u001B[43mloc\u001B[49m\u001B[43m[\u001B[49m\u001B[43mrow\u001B[49m\u001B[43m,\u001B[49m\u001B[43m \u001B[49m\u001B[38;5;124;43m'\u001B[39;49m\u001B[38;5;124;43mSkills\u001B[39;49m\u001B[38;5;124;43m'\u001B[39;49m\u001B[43m]\u001B[49m\u001B[43m)\u001B[49m)\n",
      "File \u001B[0;32m~/Documents/oneAPIproject/venv/lib/python3.10/site-packages/spacy/language.py:999\u001B[0m, in \u001B[0;36mLanguage.__call__\u001B[0;34m(self, text, disable, component_cfg)\u001B[0m\n\u001B[1;32m    978\u001B[0m \u001B[38;5;28;01mdef\u001B[39;00m \u001B[38;5;21m__call__\u001B[39m(\n\u001B[1;32m    979\u001B[0m     \u001B[38;5;28mself\u001B[39m,\n\u001B[1;32m    980\u001B[0m     text: Union[\u001B[38;5;28mstr\u001B[39m, Doc],\n\u001B[0;32m   (...)\u001B[0m\n\u001B[1;32m    983\u001B[0m     component_cfg: Optional[Dict[\u001B[38;5;28mstr\u001B[39m, Dict[\u001B[38;5;28mstr\u001B[39m, Any]]] \u001B[38;5;241m=\u001B[39m \u001B[38;5;28;01mNone\u001B[39;00m,\n\u001B[1;32m    984\u001B[0m ) \u001B[38;5;241m-\u001B[39m\u001B[38;5;241m>\u001B[39m Doc:\n\u001B[1;32m    985\u001B[0m     \u001B[38;5;124;03m\"\"\"Apply the pipeline to some text. The text can span multiple sentences,\u001B[39;00m\n\u001B[1;32m    986\u001B[0m \u001B[38;5;124;03m    and can contain arbitrary whitespace. Alignment into the original string\u001B[39;00m\n\u001B[1;32m    987\u001B[0m \u001B[38;5;124;03m    is preserved.\u001B[39;00m\n\u001B[0;32m   (...)\u001B[0m\n\u001B[1;32m    997\u001B[0m \u001B[38;5;124;03m    DOCS: https://spacy.io/api/language#call\u001B[39;00m\n\u001B[1;32m    998\u001B[0m \u001B[38;5;124;03m    \"\"\"\u001B[39;00m\n\u001B[0;32m--> 999\u001B[0m     doc \u001B[38;5;241m=\u001B[39m \u001B[38;5;28;43mself\u001B[39;49m\u001B[38;5;241;43m.\u001B[39;49m\u001B[43m_ensure_doc\u001B[49m\u001B[43m(\u001B[49m\u001B[43mtext\u001B[49m\u001B[43m)\u001B[49m\n\u001B[1;32m   1000\u001B[0m     \u001B[38;5;28;01mif\u001B[39;00m component_cfg \u001B[38;5;129;01mis\u001B[39;00m \u001B[38;5;28;01mNone\u001B[39;00m:\n\u001B[1;32m   1001\u001B[0m         component_cfg \u001B[38;5;241m=\u001B[39m {}\n",
      "File \u001B[0;32m~/Documents/oneAPIproject/venv/lib/python3.10/site-packages/spacy/language.py:1093\u001B[0m, in \u001B[0;36mLanguage._ensure_doc\u001B[0;34m(self, doc_like)\u001B[0m\n\u001B[1;32m   1091\u001B[0m \u001B[38;5;28;01mif\u001B[39;00m \u001B[38;5;28misinstance\u001B[39m(doc_like, \u001B[38;5;28mbytes\u001B[39m):\n\u001B[1;32m   1092\u001B[0m     \u001B[38;5;28;01mreturn\u001B[39;00m Doc(\u001B[38;5;28mself\u001B[39m\u001B[38;5;241m.\u001B[39mvocab)\u001B[38;5;241m.\u001B[39mfrom_bytes(doc_like)\n\u001B[0;32m-> 1093\u001B[0m \u001B[38;5;28;01mraise\u001B[39;00m \u001B[38;5;167;01mValueError\u001B[39;00m(Errors\u001B[38;5;241m.\u001B[39mE1041\u001B[38;5;241m.\u001B[39mformat(\u001B[38;5;28mtype\u001B[39m\u001B[38;5;241m=\u001B[39m\u001B[38;5;28mtype\u001B[39m(doc_like)))\n",
      "\u001B[0;31mValueError\u001B[0m: [E1041] Expected a string, Doc, or bytes as input, but got: <class 'float'>"
     ]
    }
   ],
   "source": [
    "for row in np.random.randint(0, 11829, 10):\n",
    "    ner(nlp(df.loc[row, 'Skills']))"
   ],
   "metadata": {
    "collapsed": false
   }
  },
  {
   "cell_type": "code",
   "execution_count": 55,
   "outputs": [
    {
     "data": {
      "text/plain": "                                                    Role     Desired Industry  \\\n0              Director of Maintenance Operations Resume          Engineering   \n1                                  java developer Resume          Engineering   \n2                             Mechanical Engineer Resume          Engineering   \n3                                      Technician Resume          Engineering   \n4                             Mechanical Engineer Resume          Engineering   \n...                                                  ...                  ...   \n11824                                  management Resume  Business/Management   \n11825                       Office Administration Resume  Business/Management   \n11826        CEO, The Associated Consultants, LLC Resume  Business/Management   \n11827  Sales, Account Manager, Business Development, ...  Business/Management   \n11828                                     Manager Resume  Business/Management   \n\n       SpiderID        Desired Job Location     Type of Position Desired Wage  \\\n0         83950  Wilmington, North Carolina  Full-Time Permanent       115000   \n1         83927          new york, Delaware           Contractor                \n2         83916       Surrey, New Brunswick  Full-Time Permanent                \n3         83864           Edmonton, Alberta  Part-Time Permanent     22$/hour   \n4         83803            Calgary, Alberta  Full-Time Permanent                \n...         ...                         ...                  ...          ...   \n11824     26166         Arlington, Virginia  Full-Time Permanent        50000   \n11825     26160        Queen Creek, Arizona  Full-Time Permanent       41,000   \n11826     26142      Gaithersburg, Maryland  Full-Time Permanent                \n11827     26118        Winchester, Virginia  Full-Time Permanent    65,000.00   \n11828     26097            Toronto, Ontario  Full-Time Permanent                \n\n      U.S. Work Authorization                                 Job Level  \\\n0                         Yes            Management (Manager, Director)   \n1                         Yes            Management (Manager, Director)   \n2                         Yes  Experienced with over 2 years experience   \n3                                                  New Grad/Entry Level   \n4                          No                      New Grad/Entry Level   \n...                       ...                                       ...   \n11824                     Yes            Management (Manager, Director)   \n11825                     Yes  Experienced with over 2 years experience   \n11826                                    Executive (President, VP, CEO)   \n11827                     Yes            Management (Manager, Director)   \n11828                      No            Management (Manager, Director)   \n\n        Willing to Travel Highest Degree Attained Willing to Relocate  \\\n0      Yes, Less Than 25%               Bachelors                 Yes   \n1      Yes, More Than 75%               Bachelors                 Yes   \n2                                       Bachelors                 Yes   \n3             Yes, 50-75%               Bachelors                 Yes   \n4                                       Bachelors           Undecided   \n...                   ...                     ...                 ...   \n11824  Yes, Less Than 25%  High School/Equivalent                  No   \n11825                                   Bachelors                  No   \n11826                                     Masters                       \n11827                                   Bachelors                  No   \n11828  Yes, Less Than 25%                     MBA                 Yes   \n\n                                               Objective  \\\n0      skilled carry preventative corrective general ...   \n1      goal orient hardworke engineer graduate keen i...   \n2      hand analytical solution focus professional ex...   \n3      secure challenging role expand knowledge skill...   \n4      TARGET Jobspider Senior Mems Process Engineer ...   \n...                                                  ...   \n11824                                                      \n11825                                                      \n11826                                                      \n11827                                                      \n11828                                                      \n\n                                              Experience  \\\n0      Metro Ports Wilmington NC Maintenance Manager ...   \n1      versatile technically astute field piping qc t...   \n2      Technical Management Trainee Eltex Appliances ...   \n3      hand analytical solution focus professional ex...   \n4      Gururaj Engineers automation Electrical Engine...   \n...                                                  ...   \n11824                                                      \n11825                                                      \n11826                                                      \n11827                                                      \n11828                                                      \n\n                                               Education  \\\n0      Bachelor Arts Geosciences   University North C...   \n1      Philippines Licensed Mechanical Engineer 15 ye...   \n2      Bachelor Technology Mechanichal Engineering+ A...   \n3      Bachelor Engineering Mechanical Engineering Ho...   \n4      hand analytical solution focus professional ex...   \n...                                                  ...   \n11824                                                      \n11825                                                      \n11826                                                      \n11827                                                      \n11828                                                      \n\n                                                  Skills  \n0      Preventive Maintenance Process Improvement Cha...  \n1                                                   java  \n2      expert review mechanical site design drawing r...  \n3                  Mechanichal Engineering + mechatronic  \n4      Leadership Role HKIE Student Chapters Committe...  \n...                                                  ...  \n11824                                                     \n11825                                                     \n11826                                                     \n11827                                                     \n11828                                                     \n\n[11829 rows x 15 columns]",
      "text/html": "<div>\n<style scoped>\n    .dataframe tbody tr th:only-of-type {\n        vertical-align: middle;\n    }\n\n    .dataframe tbody tr th {\n        vertical-align: top;\n    }\n\n    .dataframe thead th {\n        text-align: right;\n    }\n</style>\n<table border=\"1\" class=\"dataframe\">\n  <thead>\n    <tr style=\"text-align: right;\">\n      <th></th>\n      <th>Role</th>\n      <th>Desired Industry</th>\n      <th>SpiderID</th>\n      <th>Desired Job Location</th>\n      <th>Type of Position</th>\n      <th>Desired Wage</th>\n      <th>U.S. Work Authorization</th>\n      <th>Job Level</th>\n      <th>Willing to Travel</th>\n      <th>Highest Degree Attained</th>\n      <th>Willing to Relocate</th>\n      <th>Objective</th>\n      <th>Experience</th>\n      <th>Education</th>\n      <th>Skills</th>\n    </tr>\n  </thead>\n  <tbody>\n    <tr>\n      <th>0</th>\n      <td>Director of Maintenance Operations Resume</td>\n      <td>Engineering</td>\n      <td>83950</td>\n      <td>Wilmington, North Carolina</td>\n      <td>Full-Time Permanent</td>\n      <td>115000</td>\n      <td>Yes</td>\n      <td>Management (Manager, Director)</td>\n      <td>Yes, Less Than 25%</td>\n      <td>Bachelors</td>\n      <td>Yes</td>\n      <td>skilled carry preventative corrective general ...</td>\n      <td>Metro Ports Wilmington NC Maintenance Manager ...</td>\n      <td>Bachelor Arts Geosciences   University North C...</td>\n      <td>Preventive Maintenance Process Improvement Cha...</td>\n    </tr>\n    <tr>\n      <th>1</th>\n      <td>java developer Resume</td>\n      <td>Engineering</td>\n      <td>83927</td>\n      <td>new york, Delaware</td>\n      <td>Contractor</td>\n      <td></td>\n      <td>Yes</td>\n      <td>Management (Manager, Director)</td>\n      <td>Yes, More Than 75%</td>\n      <td>Bachelors</td>\n      <td>Yes</td>\n      <td>goal orient hardworke engineer graduate keen i...</td>\n      <td>versatile technically astute field piping qc t...</td>\n      <td>Philippines Licensed Mechanical Engineer 15 ye...</td>\n      <td>java</td>\n    </tr>\n    <tr>\n      <th>2</th>\n      <td>Mechanical Engineer Resume</td>\n      <td>Engineering</td>\n      <td>83916</td>\n      <td>Surrey, New Brunswick</td>\n      <td>Full-Time Permanent</td>\n      <td></td>\n      <td>Yes</td>\n      <td>Experienced with over 2 years experience</td>\n      <td></td>\n      <td>Bachelors</td>\n      <td>Yes</td>\n      <td>hand analytical solution focus professional ex...</td>\n      <td>Technical Management Trainee Eltex Appliances ...</td>\n      <td>Bachelor Technology Mechanichal Engineering+ A...</td>\n      <td>expert review mechanical site design drawing r...</td>\n    </tr>\n    <tr>\n      <th>3</th>\n      <td>Technician Resume</td>\n      <td>Engineering</td>\n      <td>83864</td>\n      <td>Edmonton, Alberta</td>\n      <td>Part-Time Permanent</td>\n      <td>22$/hour</td>\n      <td></td>\n      <td>New Grad/Entry Level</td>\n      <td>Yes, 50-75%</td>\n      <td>Bachelors</td>\n      <td>Yes</td>\n      <td>secure challenging role expand knowledge skill...</td>\n      <td>hand analytical solution focus professional ex...</td>\n      <td>Bachelor Engineering Mechanical Engineering Ho...</td>\n      <td>Mechanichal Engineering + mechatronic</td>\n    </tr>\n    <tr>\n      <th>4</th>\n      <td>Mechanical Engineer Resume</td>\n      <td>Engineering</td>\n      <td>83803</td>\n      <td>Calgary, Alberta</td>\n      <td>Full-Time Permanent</td>\n      <td></td>\n      <td>No</td>\n      <td>New Grad/Entry Level</td>\n      <td></td>\n      <td>Bachelors</td>\n      <td>Undecided</td>\n      <td>TARGET Jobspider Senior Mems Process Engineer ...</td>\n      <td>Gururaj Engineers automation Electrical Engine...</td>\n      <td>hand analytical solution focus professional ex...</td>\n      <td>Leadership Role HKIE Student Chapters Committe...</td>\n    </tr>\n    <tr>\n      <th>...</th>\n      <td>...</td>\n      <td>...</td>\n      <td>...</td>\n      <td>...</td>\n      <td>...</td>\n      <td>...</td>\n      <td>...</td>\n      <td>...</td>\n      <td>...</td>\n      <td>...</td>\n      <td>...</td>\n      <td>...</td>\n      <td>...</td>\n      <td>...</td>\n      <td>...</td>\n    </tr>\n    <tr>\n      <th>11824</th>\n      <td>management Resume</td>\n      <td>Business/Management</td>\n      <td>26166</td>\n      <td>Arlington, Virginia</td>\n      <td>Full-Time Permanent</td>\n      <td>50000</td>\n      <td>Yes</td>\n      <td>Management (Manager, Director)</td>\n      <td>Yes, Less Than 25%</td>\n      <td>High School/Equivalent</td>\n      <td>No</td>\n      <td></td>\n      <td></td>\n      <td></td>\n      <td></td>\n    </tr>\n    <tr>\n      <th>11825</th>\n      <td>Office Administration Resume</td>\n      <td>Business/Management</td>\n      <td>26160</td>\n      <td>Queen Creek, Arizona</td>\n      <td>Full-Time Permanent</td>\n      <td>41,000</td>\n      <td>Yes</td>\n      <td>Experienced with over 2 years experience</td>\n      <td></td>\n      <td>Bachelors</td>\n      <td>No</td>\n      <td></td>\n      <td></td>\n      <td></td>\n      <td></td>\n    </tr>\n    <tr>\n      <th>11826</th>\n      <td>CEO, The Associated Consultants, LLC Resume</td>\n      <td>Business/Management</td>\n      <td>26142</td>\n      <td>Gaithersburg, Maryland</td>\n      <td>Full-Time Permanent</td>\n      <td></td>\n      <td></td>\n      <td>Executive (President, VP, CEO)</td>\n      <td></td>\n      <td>Masters</td>\n      <td></td>\n      <td></td>\n      <td></td>\n      <td></td>\n      <td></td>\n    </tr>\n    <tr>\n      <th>11827</th>\n      <td>Sales, Account Manager, Business Development, ...</td>\n      <td>Business/Management</td>\n      <td>26118</td>\n      <td>Winchester, Virginia</td>\n      <td>Full-Time Permanent</td>\n      <td>65,000.00</td>\n      <td>Yes</td>\n      <td>Management (Manager, Director)</td>\n      <td></td>\n      <td>Bachelors</td>\n      <td>No</td>\n      <td></td>\n      <td></td>\n      <td></td>\n      <td></td>\n    </tr>\n    <tr>\n      <th>11828</th>\n      <td>Manager Resume</td>\n      <td>Business/Management</td>\n      <td>26097</td>\n      <td>Toronto, Ontario</td>\n      <td>Full-Time Permanent</td>\n      <td></td>\n      <td>No</td>\n      <td>Management (Manager, Director)</td>\n      <td>Yes, Less Than 25%</td>\n      <td>MBA</td>\n      <td>Yes</td>\n      <td></td>\n      <td></td>\n      <td></td>\n      <td></td>\n    </tr>\n  </tbody>\n</table>\n<p>11829 rows × 15 columns</p>\n</div>"
     },
     "execution_count": 55,
     "metadata": {},
     "output_type": "execute_result"
    }
   ],
   "source": [
    "df_copy['Desired Industry']."
   ],
   "metadata": {
    "collapsed": false
   }
  },
  {
   "cell_type": "code",
   "execution_count": 58,
   "outputs": [
    {
     "data": {
      "text/plain": "7316"
     },
     "execution_count": 58,
     "metadata": {},
     "output_type": "execute_result"
    }
   ],
   "source": [
    "df['Role'].nunique("
   ],
   "metadata": {
    "collapsed": false
   }
  },
  {
   "cell_type": "code",
   "execution_count": 60,
   "outputs": [],
   "source": [
    "df = df.drop(['SpiderID', 'U.S. Work Authorization', 'Desired Job Location', 'Willing to Travel'], axis=1)"
   ],
   "metadata": {
    "collapsed": false
   }
  },
  {
   "cell_type": "code",
   "execution_count": 61,
   "outputs": [
    {
     "data": {
      "text/plain": "(11829, 11)"
     },
     "execution_count": 61,
     "metadata": {},
     "output_type": "execute_result"
    }
   ],
   "source": [
    "df.shape"
   ],
   "metadata": {
    "collapsed": false
   }
  },
  {
   "cell_type": "code",
   "execution_count": 62,
   "outputs": [],
   "source": [
    "df.to_csv('preprocess/final_data.csv')"
   ],
   "metadata": {
    "collapsed": false
   }
  },
  {
   "cell_type": "code",
   "execution_count": 66,
   "outputs": [
    {
     "data": {
      "text/plain": "0           115000\n1              NaN\n2              NaN\n3         22$/hour\n4              NaN\n           ...    \n11824        50000\n11825       41,000\n11826          NaN\n11827    65,000.00\n11828          NaN\nName: Desired Wage, Length: 11829, dtype: object"
     },
     "execution_count": 66,
     "metadata": {},
     "output_type": "execute_result"
    }
   ],
   "source": [
    "df['Desired Wage']"
   ],
   "metadata": {
    "collapsed": false
   }
  },
  {
   "cell_type": "code",
   "execution_count": null,
   "outputs": [],
   "source": [],
   "metadata": {
    "collapsed": false
   }
  }
 ],
 "metadata": {
  "kernelspec": {
   "display_name": "Python 3",
   "language": "python",
   "name": "python3"
  },
  "language_info": {
   "codemirror_mode": {
    "name": "ipython",
    "version": 2
   },
   "file_extension": ".py",
   "mimetype": "text/x-python",
   "name": "python",
   "nbconvert_exporter": "python",
   "pygments_lexer": "ipython2",
   "version": "2.7.6"
  }
 },
 "nbformat": 4,
 "nbformat_minor": 0
}
